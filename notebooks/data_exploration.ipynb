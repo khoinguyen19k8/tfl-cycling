{
 "cells": [
  {
   "cell_type": "markdown",
   "id": "0476b3c4-35a5-4c2a-b64e-7fbe471863d1",
   "metadata": {},
   "source": [
    "# Setup"
   ]
  },
  {
   "cell_type": "code",
   "execution_count": 1,
   "id": "645b30f1-f8c1-4623-84ad-0bddb8ed8dca",
   "metadata": {
    "tags": []
   },
   "outputs": [],
   "source": [
    "import pandas as pd\n",
    "import numpy as np\n",
    "import requests\n",
    "from bs4 import BeautifulSoup\n",
    "import re\n",
    "from regex_engine import generator\n",
    "import logging\n",
    "import boto3\n",
    "from botocore.exceptions import ClientError\n",
    "import os\n",
    "#import pyarrow\n",
    "#pd.set_option(\"mode.dtype_backend\", \"pyarrow\")"
   ]
  },
  {
   "cell_type": "code",
   "execution_count": 2,
   "id": "708b8883-5144-4333-bcc1-d5d29288a1a8",
   "metadata": {
    "tags": []
   },
   "outputs": [
    {
     "data": {
      "text/plain": [
       "'2.0.0rc0'"
      ]
     },
     "execution_count": 2,
     "metadata": {},
     "output_type": "execute_result"
    }
   ],
   "source": [
    "pd.__version__"
   ]
  },
  {
   "cell_type": "code",
   "execution_count": 3,
   "id": "74b3dcd4-9620-4248-993e-ce3d22c61fb9",
   "metadata": {
    "tags": []
   },
   "outputs": [],
   "source": [
    "df = pd.read_csv(\"127JourneyDataExtract12Sep2018-18Sep2018.csv\")"
   ]
  },
  {
   "cell_type": "code",
   "execution_count": 4,
   "id": "a8dda9bc-ed72-40fd-8ce2-8d9756650623",
   "metadata": {
    "tags": []
   },
   "outputs": [
    {
     "data": {
      "text/plain": [
       "(248048, 9)"
      ]
     },
     "execution_count": 4,
     "metadata": {},
     "output_type": "execute_result"
    }
   ],
   "source": [
    "df.shape"
   ]
  },
  {
   "cell_type": "code",
   "execution_count": 5,
   "id": "73185e92-33a5-4a40-8dfe-501cd832fc42",
   "metadata": {
    "tags": []
   },
   "outputs": [
    {
     "data": {
      "text/html": [
       "<div>\n",
       "<style scoped>\n",
       "    .dataframe tbody tr th:only-of-type {\n",
       "        vertical-align: middle;\n",
       "    }\n",
       "\n",
       "    .dataframe tbody tr th {\n",
       "        vertical-align: top;\n",
       "    }\n",
       "\n",
       "    .dataframe thead th {\n",
       "        text-align: right;\n",
       "    }\n",
       "</style>\n",
       "<table border=\"1\" class=\"dataframe\">\n",
       "  <thead>\n",
       "    <tr style=\"text-align: right;\">\n",
       "      <th></th>\n",
       "      <th>Rental Id</th>\n",
       "      <th>Duration</th>\n",
       "      <th>Bike Id</th>\n",
       "      <th>End Date</th>\n",
       "      <th>EndStation Id</th>\n",
       "      <th>EndStation Name</th>\n",
       "      <th>Start Date</th>\n",
       "      <th>StartStation Id</th>\n",
       "      <th>StartStation Name</th>\n",
       "    </tr>\n",
       "  </thead>\n",
       "  <tbody>\n",
       "    <tr>\n",
       "      <th>0</th>\n",
       "      <td>80236130</td>\n",
       "      <td>960</td>\n",
       "      <td>1194</td>\n",
       "      <td>12/09/2018 09:22</td>\n",
       "      <td>215</td>\n",
       "      <td>Moorfields, Moorgate</td>\n",
       "      <td>12/09/2018 09:06</td>\n",
       "      <td>819</td>\n",
       "      <td>Belvedere Road 2, South Bank</td>\n",
       "    </tr>\n",
       "    <tr>\n",
       "      <th>1</th>\n",
       "      <td>80234557</td>\n",
       "      <td>900</td>\n",
       "      <td>4550</td>\n",
       "      <td>12/09/2018 08:59</td>\n",
       "      <td>564</td>\n",
       "      <td>Somerset House, Strand</td>\n",
       "      <td>12/09/2018 08:44</td>\n",
       "      <td>183</td>\n",
       "      <td>Riverlight North, Nine Elms</td>\n",
       "    </tr>\n",
       "    <tr>\n",
       "      <th>2</th>\n",
       "      <td>80468055</td>\n",
       "      <td>1080</td>\n",
       "      <td>6428</td>\n",
       "      <td>18/09/2018 16:23</td>\n",
       "      <td>456</td>\n",
       "      <td>Parkway, Camden Town</td>\n",
       "      <td>18/09/2018 16:05</td>\n",
       "      <td>121</td>\n",
       "      <td>Baker Street, Marylebone</td>\n",
       "    </tr>\n",
       "    <tr>\n",
       "      <th>3</th>\n",
       "      <td>80314115</td>\n",
       "      <td>1920</td>\n",
       "      <td>7158</td>\n",
       "      <td>14/09/2018 11:02</td>\n",
       "      <td>529</td>\n",
       "      <td>Manresa Road, Chelsea</td>\n",
       "      <td>14/09/2018 10:30</td>\n",
       "      <td>121</td>\n",
       "      <td>Baker Street, Marylebone</td>\n",
       "    </tr>\n",
       "    <tr>\n",
       "      <th>4</th>\n",
       "      <td>80462483</td>\n",
       "      <td>1320</td>\n",
       "      <td>3627</td>\n",
       "      <td>18/09/2018 13:02</td>\n",
       "      <td>172</td>\n",
       "      <td>Sumner Place, South Kensington</td>\n",
       "      <td>18/09/2018 12:40</td>\n",
       "      <td>121</td>\n",
       "      <td>Baker Street, Marylebone</td>\n",
       "    </tr>\n",
       "  </tbody>\n",
       "</table>\n",
       "</div>"
      ],
      "text/plain": [
       "   Rental Id  Duration  Bike Id          End Date  EndStation Id   \n",
       "0   80236130       960     1194  12/09/2018 09:22            215  \\\n",
       "1   80234557       900     4550  12/09/2018 08:59            564   \n",
       "2   80468055      1080     6428  18/09/2018 16:23            456   \n",
       "3   80314115      1920     7158  14/09/2018 11:02            529   \n",
       "4   80462483      1320     3627  18/09/2018 13:02            172   \n",
       "\n",
       "                  EndStation Name        Start Date  StartStation Id   \n",
       "0            Moorfields, Moorgate  12/09/2018 09:06              819  \\\n",
       "1          Somerset House, Strand  12/09/2018 08:44              183   \n",
       "2            Parkway, Camden Town  18/09/2018 16:05              121   \n",
       "3           Manresa Road, Chelsea  14/09/2018 10:30              121   \n",
       "4  Sumner Place, South Kensington  18/09/2018 12:40              121   \n",
       "\n",
       "              StartStation Name  \n",
       "0  Belvedere Road 2, South Bank  \n",
       "1   Riverlight North, Nine Elms  \n",
       "2      Baker Street, Marylebone  \n",
       "3      Baker Street, Marylebone  \n",
       "4      Baker Street, Marylebone  "
      ]
     },
     "execution_count": 5,
     "metadata": {},
     "output_type": "execute_result"
    }
   ],
   "source": [
    "df.head(5)"
   ]
  },
  {
   "cell_type": "code",
   "execution_count": 6,
   "id": "6330ed75-9079-4c88-8b58-e9932ded3df8",
   "metadata": {
    "tags": []
   },
   "outputs": [
    {
     "name": "stdout",
     "output_type": "stream",
     "text": [
      "<class 'pandas.core.frame.DataFrame'>\n",
      "RangeIndex: 248048 entries, 0 to 248047\n",
      "Data columns (total 9 columns):\n",
      " #   Column             Non-Null Count   Dtype \n",
      "---  ------             --------------   ----- \n",
      " 0   Rental Id          248048 non-null  int64 \n",
      " 1   Duration           248048 non-null  int64 \n",
      " 2   Bike Id            248048 non-null  int64 \n",
      " 3   End Date           248048 non-null  object\n",
      " 4   EndStation Id      248048 non-null  int64 \n",
      " 5   EndStation Name    248048 non-null  object\n",
      " 6   Start Date         248048 non-null  object\n",
      " 7   StartStation Id    248048 non-null  int64 \n",
      " 8   StartStation Name  248048 non-null  object\n",
      "dtypes: int64(5), object(4)\n",
      "memory usage: 17.0+ MB\n"
     ]
    }
   ],
   "source": [
    "df.info()"
   ]
  },
  {
   "cell_type": "markdown",
   "id": "19c0bbfa-6b50-4c79-834f-51d31d77c5c0",
   "metadata": {},
   "source": [
    "# Filter appropriate file names"
   ]
  },
  {
   "cell_type": "code",
   "execution_count": 46,
   "id": "33f773bb-60c1-44b9-aada-0879ab8d29a9",
   "metadata": {
    "tags": []
   },
   "outputs": [],
   "source": [
    "#!aws s3 ls s3://cycling.data.tfl.gov.uk/usage-stats/ > usage_data_name.txt"
   ]
  },
  {
   "cell_type": "code",
   "execution_count": 2,
   "id": "8299321a-9e51-47ad-b51a-c3c80abf097c",
   "metadata": {
    "tags": []
   },
   "outputs": [],
   "source": [
    "s3_client = boto3.client('s3')\n",
    "response = s3_client.list_objects_v2(Bucket='cycling.data.tfl.gov.uk', Prefix = 'usage-stat')"
   ]
  },
  {
   "cell_type": "code",
   "execution_count": 3,
   "id": "c8ef56f4-6636-4667-a9f7-46933f7cd1e2",
   "metadata": {
    "tags": []
   },
   "outputs": [],
   "source": [
    "raw_urls = []\n",
    "for obj in response['Contents']:\n",
    "    raw_urls.append(obj['Key'])"
   ]
  },
  {
   "cell_type": "code",
   "execution_count": null,
   "id": "8ab50c34-8818-440e-9083-0bfff5b4a12f",
   "metadata": {
    "tags": []
   },
   "outputs": [],
   "source": [
    "raw_urls = [u.replace('usage-stats/', '').replace(' ', '') for u in raw_urls]\n",
    "raw_urls = list(filter(None, raw_urls))\n",
    "generate = generator()\n",
    "\n",
    "regex = generate.numerical_range(14, 352)\n",
    "p = re.compile(regex[:-1] + \"JourneyDataExtract\")\n",
    "filtered_names_list = [f for f in raw_urls if (p.match(f) and f.endswith(\".csv\"))]\n",
    "foo_names_list = filtered_names_list[:8]"
   ]
  },
  {
   "cell_type": "code",
   "execution_count": null,
   "id": "6653e054-caec-4b56-88ee-0f9dce3dd82a",
   "metadata": {
    "tags": []
   },
   "outputs": [
    {
     "data": {
      "text/plain": [
       "False"
      ]
     },
     "execution_count": 5,
     "metadata": {},
     "output_type": "execute_result"
    }
   ],
   "source": [
    "len(filtered_names_list) == (352 - 14 + 1)"
   ]
  },
  {
   "cell_type": "code",
   "execution_count": 85,
   "id": "7875a62e-90df-4d43-9db9-28580f90be01",
   "metadata": {
    "tags": []
   },
   "outputs": [],
   "source": [
    "BUCKET_NAME = 'cycling.data.tfl.gov.uk'\n",
    "BUCKET_PREFIX = 'usage-stats'\n",
    "DATA_DIR_PREFIX = 'data'"
   ]
  },
  {
   "cell_type": "code",
   "execution_count": 86,
   "id": "1dd8c5f8-db22-4f3c-99b0-514a43dc0868",
   "metadata": {
    "tags": []
   },
   "outputs": [],
   "source": [
    "for f in foo_names_list:\n",
    "    s3_client.download_file(BUCKET_NAME, f\"{BUCKET_PREFIX}/{f}\", f\"{DATA_DIR_PREFIX}/{f}\")"
   ]
  },
  {
   "cell_type": "code",
   "execution_count": 68,
   "id": "090d5dd6-eda2-4b1a-ab9a-1ab7df1c7e66",
   "metadata": {
    "tags": []
   },
   "outputs": [],
   "source": [
    "BASE_URL = \"https://cycling.data.tfl.gov.uk/usage-stats/\""
   ]
  },
  {
   "cell_type": "code",
   "execution_count": 75,
   "id": "91b05449-5920-419c-8bc6-79ef38305c5a",
   "metadata": {
    "tags": []
   },
   "outputs": [],
   "source": [
    "filtered_urls = [BASE_URL + f for f in filtered_names_list]"
   ]
  },
  {
   "cell_type": "code",
   "execution_count": 76,
   "id": "604efcb0-1252-45d9-a464-3d19a4072c8d",
   "metadata": {
    "tags": []
   },
   "outputs": [],
   "source": [
    "pd.Series(filtered_urls).to_csv(\"filtered_urls.txt\", index = False, header = False)"
   ]
  },
  {
   "cell_type": "markdown",
   "id": "a594b94b-213b-4029-986b-0e739a3a0be9",
   "metadata": {},
   "source": [
    "# Download files from the website"
   ]
  },
  {
   "cell_type": "code",
   "execution_count": null,
   "id": "810e96f2-ad33-415f-8666-5a9f4fb447ab",
   "metadata": {},
   "outputs": [],
   "source": [
    "#!./download_data.sh foo_urls.txt 8 data/"
   ]
  },
  {
   "cell_type": "markdown",
   "id": "d441626b-4ca4-4483-8f8b-ddbd2a93d820",
   "metadata": {},
   "source": [
    "# Upload data to S3"
   ]
  },
  {
   "cell_type": "code",
   "execution_count": 27,
   "id": "cd6e0770-a821-4da1-b0a0-9121e3bf44b5",
   "metadata": {},
   "outputs": [],
   "source": [
    "def upload_file(file_name, bucket, object_name=None):\n",
    "    \"\"\"Upload a file to an S3 bucket\n",
    "\n",
    "    :param file_name: File to upload\n",
    "    :param bucket: Bucket to upload to\n",
    "    :param object_name: S3 object name. If not specified then file_name is used\n",
    "    :return: True if file was uploaded, else False\n",
    "    \"\"\"\n",
    "\n",
    "    # If S3 object_name was not specified, use file_name\n",
    "    if object_name is None:\n",
    "        object_name = os.path.basename(file_name)\n",
    "\n",
    "    # Upload the file\n",
    "    s3_client = boto3.client('s3')\n",
    "    try:\n",
    "        response = s3_client.upload_file(file_name, bucket, object_name)\n",
    "    except ClientError as e:\n",
    "        logging.error(e)\n",
    "        return False\n",
    "    return True"
   ]
  },
  {
   "cell_type": "code",
   "execution_count": 29,
   "id": "67f2e71b-b9c1-4853-ad46-deb6f3615534",
   "metadata": {},
   "outputs": [
    {
     "data": {
      "text/plain": [
       "True"
      ]
     },
     "execution_count": 29,
     "metadata": {},
     "output_type": "execute_result"
    }
   ],
   "source": [
    "upload_file(\"127JourneyDataExtract12Sep2018-18Sep2018.csv\", \"tfl-cycling\",\"foo/127JourneyDataExtract12Sep2018-18Sep2018.csv\")"
   ]
  }
 ],
 "metadata": {
  "kernelspec": {
   "display_name": "Python 3 (ipykernel)",
   "language": "python",
   "name": "python3"
  },
  "language_info": {
   "codemirror_mode": {
    "name": "ipython",
    "version": 3
   },
   "file_extension": ".py",
   "mimetype": "text/x-python",
   "name": "python",
   "nbconvert_exporter": "python",
   "pygments_lexer": "ipython3",
   "version": "3.9.15"
  }
 },
 "nbformat": 4,
 "nbformat_minor": 5
}
